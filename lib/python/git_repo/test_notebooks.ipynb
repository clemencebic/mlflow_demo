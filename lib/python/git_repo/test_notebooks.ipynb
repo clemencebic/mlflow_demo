{
 "cells": [
  {
   "cell_type": "code",
   "execution_count": 5,
   "id": "1116c7d7",
   "metadata": {},
   "outputs": [],
   "source": [
    "a= 3\n",
    "b=4"
   ]
  },
  {
   "cell_type": "code",
   "execution_count": 6,
   "id": "26ae21a5",
   "metadata": {},
   "outputs": [
    {
     "name": "stdout",
     "output_type": "stream",
     "text": [
      "7\n"
     ]
    }
   ],
   "source": [
    "print(a+b)"
   ]
  },
  {
   "cell_type": "code",
   "execution_count": null,
   "id": "e983c330",
   "metadata": {},
   "outputs": [],
   "source": []
  }
 ],
 "metadata": {
  "kernelspec": {
   "display_name": "Python 3 (ipykernel)",
   "language": "python",
   "name": "python3"
  },
  "language_info": {
   "codemirror_mode": {
    "name": "ipython",
    "version": 3
   },
   "file_extension": ".py",
   "mimetype": "text/x-python",
   "name": "python",
   "nbconvert_exporter": "python",
   "pygments_lexer": "ipython3",
   "version": "3.8.12"
  }
 },
 "nbformat": 4,
 "nbformat_minor": 5
}
