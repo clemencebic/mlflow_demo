{
  "metadata": {
    "kernelspec": {
      "name": "python3",
      "display_name": "Python 3",
      "language": "python"
    },
    "associatedRecipe": "compute_test_code_recipe",
    "dkuGit": {
      "lastInteraction": 0
    },
    "creationTag": {
      "versionNumber": 0,
      "lastModifiedBy": {
        "login": "admin"
      },
      "lastModifiedOn": 1673021204394
    },
    "creator": "admin",
    "createdOn": 1673021204394,
    "tags": [
      "recipe-editor"
    ],
    "customFields": {},
    "hide_input": false,
    "language_info": {
      "name": "python",
      "version": "3.7.12",
      "mimetype": "text/x-python",
      "codemirror_mode": {
        "name": "ipython",
        "version": 3
      },
      "pygments_lexer": "ipython3",
      "nbconvert_exporter": "python",
      "file_extension": ".py"
    },
    "modifiedBy": "admin"
  },
  "nbformat": 4,
  "nbformat_minor": 1,
  "cells": [
    {
      "execution_count": 0,
      "cell_type": "code",
      "metadata": {},
      "source": [
        "# -*- coding: utf-8 -*-\nimport dataiku\nimport pandas as pd, numpy as np\nfrom dataiku import pandasutils as pdu\nimport math\nimport numpy as np\nimport pytorch\n\n# Read recipe inputs\neval_data \u003d dataiku.Dataset(\"eval_data\")\neval_data_df \u003d eval_data.get_dataframe()\n\n\n# Compute recipe outputs from inputs\n# TODO: Replace this part by your actual code that computes the output, as a Pandas dataframe\n# NB: DSS also supports other kinds of APIs for reading and writing data. Please see doc.\n\ntest_code_recipe_df \u003d eval_data_df # For this sample code, simply copy input to output\n\n\n# Write recipe outputs\n# Dataset test_code_recipe renamed to test_code_recipe_change by admin on 2023-01-24 11:53:10\n# Dataset test_code_recipe_change renamed to test_code_recipe by admin on 2023-01-24 11:53:43\ntest_code_recipe \u003d dataiku.Dataset(\"test_code_recipe\")\ntest_code_recipe.write_with_schema(test_code_recipe_df)"
      ],
      "outputs": []
    }
  ]
}