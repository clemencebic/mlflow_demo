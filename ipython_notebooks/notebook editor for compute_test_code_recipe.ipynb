{
  "nbformat": 4,
  "nbformat_minor": 0,
  "metadata": {
    "kernelspec": {
      "display_name": "Python 3",
      "language": "python",
      "name": "python3"
    },
    "associatedRecipe": "compute_test_code_recipe",
    "dkuGit": {
      "lastInteraction": 0
    },
    "creationTag": {
      "versionNumber": 0,
      "lastModifiedBy": {
        "login": "admin"
      },
      "lastModifiedOn": 1673021204394
    },
    "creator": "admin",
    "createdOn": 1673021204394,
    "tags": [
      "recipe-editor"
    ],
    "customFields": {}
  },
  "cells": [
    {
      "cell_type": "code",
      "metadata": {},
      "outputs": [],
      "execution_count": 0,
      "source": [
        "# -*- coding: utf-8 -*-\n",
        "import dataiku\n",
        "import pandas as pd, numpy as np\n",
        "from dataiku import pandasutils as pdu\n",
        "import math\n",
        "import numpy as np\n",
        "import pytorch\n",
        "\n",
        "# Read recipe inputs\n",
        "eval_data \u003d dataiku.Dataset(\"eval_data\")\n",
        "eval_data_df \u003d eval_data.get_dataframe()\n",
        "\n",
        "\n",
        "# Compute recipe outputs from inputs\n",
        "# TODO: Replace this part by your actual code that computes the output, as a Pandas dataframe\n",
        "# NB: DSS also supports other kinds of APIs for reading and writing data. Please see doc.\n",
        "\n",
        "test_code_recipe_df \u003d eval_data_df # For this sample code, simply copy input to output\n",
        "\n",
        "\n",
        "# Write recipe outputs\n",
        "test_code_recipe \u003d dataiku.Dataset(\"test_code_recipe\")\n",
        "test_code_recipe.write_with_schema(test_code_recipe_df)"
      ]
    }
  ]
}