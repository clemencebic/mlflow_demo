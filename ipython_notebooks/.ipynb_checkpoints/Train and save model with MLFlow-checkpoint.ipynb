{
  "metadata": {
    "creator": "admin",
    "createdOn": 1638796031687,
    "tags": [],
    "customFields": {},
    "hide_input": false,
    "language_info": {
      "name": "python",
      "version": "3.7.12",
      "mimetype": "text/x-python",
      "codemirror_mode": {
        "name": "ipython",
        "version": 3
      },
      "pygments_lexer": "ipython3",
      "nbconvert_exporter": "python",
      "file_extension": ".py"
    },
    "modifiedBy": "admin",
    "analyzedDataset": "training_data",
    "kernelspec": {
      "name": "python3",
      "display_name": "Python 3",
      "language": "python"
    }
  },
  "nbformat": 4,
  "nbformat_minor": 1,
  "cells": [
    {
      "cell_type": "markdown",
      "metadata": {},
      "source": [
        "# Importing mlflow models in DSS\n\nIn this notebook we show through a simple example how to import a machine learning model trained *entirely out of DSS* into a SavedModel in a project\u0027s Flow. We use the [Catboost]() framework to perform a binary classification task on the [UCI Bank dataset]()."
      ]
    },
    {
      "cell_type": "markdown",
      "metadata": {},
      "source": [
        "## Step 1: create the code env in DSS\n\nIn the *Administration \u003e Code envs* section of DSS, create a new **python 3.6 or above** code environment and add the following packages, then build the code-env:\n\n`\nmlflow\nmlflow[extras]\ncatboost\u003d\u003d0.26.1\npandas\u003e\u003d1.0,\u003c1.1\n`\n\n\u003e **This notebook should be running using that code env ! **\n\nWrite down the name of that code env, you will need it to call `import_mlflow_version_from_path()`."
      ]
    },
    {
      "cell_type": "markdown",
      "metadata": {},
      "source": [
        "## Step 2: import packages"
      ]
    },
    {
      "execution_count": 0,
      "cell_type": "code",
      "metadata": {},
      "source": [
        "import dataiku\nimport dataikuapi\nimport os\nimport pandas\n\nfrom dataikuapi.dss.ml import DSSPredictionMLTaskSettings\n\nimport pandas as pd\nimport mlflow.catboost\nfrom catboost import CatBoostClassifier\nfrom sklearn.model_selection import train_test_split\nfrom sklearn.preprocessing import LabelBinarizer\nfrom datetime import datetime"
      ],
      "outputs": []
    },
    {
      "cell_type": "markdown",
      "metadata": {},
      "source": [
        "## Step 3: train your model\n\nWe will train a Catboost model on our training dataset"
      ]
    },
    {
      "execution_count": 0,
      "cell_type": "code",
      "metadata": {},
      "source": [
        "# Import training data\ntrainaing_data \u003d dataiku.Dataset(\"training_data\")\ndf \u003d trainaing_data.get_dataframe()\ncat_cols\u003d [\"job\", \"marital\", \"education\", \"default\", \"housing\",\"loan\", \"month\"]\ncont_cols\u003d [\"age\", \"balance\", \"day\", \"duration\", \"campaign\"]\ntarget\u003d [\"y\"]\n\n# Train a catboost model on training data\ncat_col_idx \u003d [df.columns.get_loc(c) for c in cat_cols]\nX \u003d df.drop(target, axis\u003d1)\ny \u003d LabelBinarizer().fit_transform(df[target[0]])\n\nX_train, X_val, y_train, y_val \u003d train_test_split(X, y, train_size\u003d0.7, random_state\u003d1337)\nmodel \u003d CatBoostClassifier(iterations\u003d100, learning_rate\u003d0.05, depth\u003d15, eval_metric\u003d\"AUC\")\nmodel.fit(X_train, y_train,\n          cat_features\u003dcat_col_idx,\n          eval_set\u003d(X_val, y_val))\n\n# Save the model to a managed folder\ncatboost_models_folder \u003d dataiku.Folder(\"catboost_models\")\ncatboost_models_folder_dir \u003d catboost_models_folder.get_path()\nts \u003d datetime.now().strftime(\"%Y%m%d-%H%M%S\")\nmodel_dir \u003d \"{}/catboost-uci-bank-{}\".format(catboost_models_folder_dir,ts)\n\nmlflow.catboost.save_model(model, model_dir)\nprint(\"Model saved at {} !\".format(os.path.abspath(model_dir)))"
      ],
      "outputs": []
    },
    {
      "cell_type": "markdown",
      "metadata": {},
      "source": [
        "## Step 4: get a handle on a SavedModel"
      ]
    },
    {
      "execution_count": 0,
      "cell_type": "code",
      "metadata": {},
      "source": [
        "client \u003d dataiku.api_client()\nproject \u003d client.get_default_project()\n\n# Get or create SavedModel\nsm_name \u003d \"catboost-uci-bank\"\nsm_id \u003d None\nfor sm in project.list_saved_models():\n    if sm_name !\u003d sm[\"name\"]:\n        continue\n    else:\n        sm_id \u003d sm[\"id\"]\n        print(\"Found SavedModel {} with id {}\".format(sm_name, sm_id))\n        break\nif sm_id:\n    sm \u003d project.get_saved_model(sm_id)\nelse:\n    sm \u003d project.create_mlflow_pyfunc_model(name\u003dsm_name,\n                                            prediction_type\u003dDSSPredictionMLTaskSettings.PredictionTypes.BINARY)\n    sm_id \u003d sm.id\n    print(\"SavedModel not found, created new one with id {}\".format(sm_id))"
      ],
      "outputs": []
    },
    {
      "cell_type": "markdown",
      "metadata": {},
      "source": [
        "## Step 5: Import mlflow model into a SavedModel version"
      ]
    },
    {
      "execution_count": 0,
      "cell_type": "code",
      "metadata": {},
      "source": [
        "# Change the following values to match your setup !\n\nversion_id \u003d \"v01\" # Change this to iterate to a new version\n\n# Create version in SavedModel\nfor v in sm.list_versions():\n    if v[\"id\"] \u003d\u003d version_id:\n        raise Exception(\"SavedModel version already exists! Choose a new version name.\")\n\nsm_version \u003d sm.import_mlflow_version_from_path(version_id\u003dversion_id,\n                                                path\u003dmodel_dir,\n                                                code_env_name\u003d\"mlflow_catboost\")\n# Evaluate the version using the previously created Dataset\nsm_version.set_core_metadata(target_column_name\u003d\"y\",\n                             class_labels\u003d[\"no\", \"yes\"],\n                             get_features_from_dataset\u003d\"eval_data\")\nsm_version.evaluate(\"eval_data\")"
      ],
      "outputs": []
    },
    {
      "cell_type": "markdown",
      "metadata": {},
      "source": [
        "If you go to the SavedModel\u0027s version screen, you should now be able to see properly all the \"Performance\" visualizations."
      ]
    }
  ]
}